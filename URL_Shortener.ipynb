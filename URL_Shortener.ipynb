{
  "nbformat": 4,
  "nbformat_minor": 0,
  "metadata": {
    "colab": {
      "provenance": [],
      "authorship_tag": "ABX9TyOm4CO5QRqDUGr70zRkvuR7",
      "include_colab_link": true
    },
    "kernelspec": {
      "name": "python3",
      "display_name": "Python 3"
    },
    "language_info": {
      "name": "python"
    }
  },
  "cells": [
    {
      "cell_type": "markdown",
      "metadata": {
        "id": "view-in-github",
        "colab_type": "text"
      },
      "source": [
        "<a href=\"https://colab.research.google.com/github/11arjun11/CodeClause-URL-Shortener/blob/main/URL_Shortener.ipynb\" target=\"_parent\"><img src=\"https://colab.research.google.com/assets/colab-badge.svg\" alt=\"Open In Colab\"/></a>"
      ]
    },
    {
      "cell_type": "code",
      "execution_count": 1,
      "metadata": {
        "colab": {
          "base_uri": "https://localhost:8080/"
        },
        "id": "ICajfFfw23q1",
        "outputId": "453d36dd-4aac-490f-e5db-02eae9493c36"
      },
      "outputs": [
        {
          "output_type": "stream",
          "name": "stdout",
          "text": [
            "https://www.ibm.com/docs/en/qsip/7.4?topic=integration-ip-address-url-categories: ibm.com.in\n",
            "Shortened URL: http://short.url/yzv2G-\n",
            "Original URL retrieved from shortened URL: ibm.com.in\n"
          ]
        }
      ],
      "source": [
        "import hashlib\n",
        "import base64\n",
        "\n",
        "class CustomURLShortener:\n",
        "    def __init__(self, domain=\"http://short.url/\"):\n",
        "        self.domain = domain\n",
        "        self.url_mapping = {}\n",
        "\n",
        "    def shorten_url(self, long_url):\n",
        "        # Create a unique hash for the URL\n",
        "        hash_object = hashlib.md5(long_url.encode())\n",
        "        short_hash = base64.urlsafe_b64encode(hash_object.digest())[:6].decode('utf-8')\n",
        "\n",
        "        short_url = self.domain + short_hash\n",
        "        self.url_mapping[short_url] = long_url\n",
        "\n",
        "        return short_url\n",
        "\n",
        "    def retrieve_long_url(self, short_url):\n",
        "        return self.url_mapping.get(short_url, \"URL not found\")\n",
        "\n",
        "if __name__ == \"__main__\":\n",
        "    long_url = input(\"https://www.ibm.com/docs/en/qsip/7.4?topic=integration-ip-address-url-categories: \")\n",
        "\n",
        "    url_shortener = CustomURLShortener()\n",
        "    short_url = url_shortener.shorten_url(long_url)\n",
        "\n",
        "    print(\"Shortened URL:\", short_url)\n",
        "\n",
        "    # For demonstration, let's retrieve the original URL back\n",
        "    retrieved_url = url_shortener.retrieve_long_url(short_url)\n",
        "    print(\"Original URL retrieved from shortened URL:\", retrieved_url)\n"
      ]
    },
    {
      "cell_type": "code",
      "source": [
        "!pip install pyshorteners"
      ],
      "metadata": {
        "colab": {
          "base_uri": "https://localhost:8080/"
        },
        "id": "xCt72JKL7Dim",
        "outputId": "71110558-a7d7-45fd-b7fc-08173677ac11",
        "collapsed": true
      },
      "execution_count": null,
      "outputs": [
        {
          "output_type": "stream",
          "name": "stdout",
          "text": [
            "Collecting pyshorteners\n",
            "  Downloading pyshorteners-1.0.1.tar.gz (10.0 kB)\n",
            "  Preparing metadata (setup.py) ... \u001b[?25l\u001b[?25hdone\n",
            "Requirement already satisfied: requests in /usr/local/lib/python3.10/dist-packages (from pyshorteners) (2.32.3)\n",
            "Requirement already satisfied: charset-normalizer<4,>=2 in /usr/local/lib/python3.10/dist-packages (from requests->pyshorteners) (3.3.2)\n",
            "Requirement already satisfied: idna<4,>=2.5 in /usr/local/lib/python3.10/dist-packages (from requests->pyshorteners) (3.8)\n",
            "Requirement already satisfied: urllib3<3,>=1.21.1 in /usr/local/lib/python3.10/dist-packages (from requests->pyshorteners) (2.0.7)\n",
            "Requirement already satisfied: certifi>=2017.4.17 in /usr/local/lib/python3.10/dist-packages (from requests->pyshorteners) (2024.7.4)\n",
            "Building wheels for collected packages: pyshorteners\n",
            "  Building wheel for pyshorteners (setup.py) ... \u001b[?25l\u001b[?25hdone\n",
            "  Created wheel for pyshorteners: filename=pyshorteners-1.0.1-py3-none-any.whl size=17478 sha256=2c435eb98af5edfb1a2232d38bf6862f8eefda8a2ed43d4b26fd4147c78d9e33\n",
            "  Stored in directory: /root/.cache/pip/wheels/d5/ff/b3/16d8906f92ab0b042f76a4696fcea11d291d79a2b3a3de1e78\n",
            "Successfully built pyshorteners\n",
            "Installing collected packages: pyshorteners\n",
            "Successfully installed pyshorteners-1.0.1\n"
          ]
        }
      ]
    },
    {
      "source": [
        "import pyshorteners\n",
        "\n",
        "long_url = input(\"https://www.ibm.com/docs/en/qsip/7.4?topic=integration-ip-address-url-categories: \")\n",
        "\n",
        "# Create an instance of the Shortener class\n",
        "shortener = pyshorteners.Shortener()\n",
        "\n",
        "# Now you can use the tinyurl shortener\n",
        "short_url = shortener.tinyurl.short(long_url)\n",
        "print(\"Shortened URL:\", short_url)"
      ],
      "cell_type": "code",
      "metadata": {
        "colab": {
          "base_uri": "https://localhost:8080/"
        },
        "id": "3lnZpX-j7X8b",
        "outputId": "a40b9c3f-48df-4fe6-ff3e-f527913ab863"
      },
      "execution_count": null,
      "outputs": [
        {
          "output_type": "stream",
          "name": "stdout",
          "text": [
            "https://www.ibm.com/docs/en/qsip/7.4?topic=integration-ip-address-url-categories: www.ibm.com\n",
            "Shortened URL: https://tinyurl.com/8ed\n"
          ]
        }
      ]
    },
    {
      "source": [
        "import pyshorteners\n",
        "\n",
        "long_url = input(\"https://www.ibm.com/docs/en/qsip/7.4?topic=integration-ip-address-url-categories: \")\n",
        "\n",
        "# Create an instance of the Shortener class\n",
        "shortener = pyshorteners.Shortener()\n",
        "\n",
        "try:\n",
        "    # Now you can use the tinyurl shortener\n",
        "    short_url = shortener.tinyurl.short(long_url)\n",
        "    print(\"Shortened URL:\", short_url)\n",
        "\n",
        "except pyshorteners.exceptions.ShorteningErrorException as e:\n",
        "    print(f\"An error occurred while shortening the URL: {e}\")"
      ],
      "cell_type": "code",
      "metadata": {
        "colab": {
          "base_uri": "https://localhost:8080/"
        },
        "id": "8VWCNzHb7qbf",
        "outputId": "fe39cc64-eb72-46c4-ed6e-9d6246874aa9"
      },
      "execution_count": null,
      "outputs": [
        {
          "output_type": "stream",
          "name": "stdout",
          "text": [
            "https://www.ibm.com/docs/en/qsip/7.4?topic=integration-ip-address-url-categories: ibm.com\n",
            "Shortened URL: https://tinyurl.com/3f2cy\n"
          ]
        }
      ]
    }
  ]
}